{
 "cells": [
  {
   "cell_type": "code",
   "execution_count": 1,
   "id": "3e629d46-69e0-4f45-b71d-d92a94570665",
   "metadata": {},
   "outputs": [
    {
     "name": "stdout",
     "output_type": "stream",
     "text": [
      "tensor([[1., 1.],\n",
      "        [1., 1.]], dtype=torch.float64)\n"
     ]
    }
   ],
   "source": [
    "import torch \n",
    "import numpy as np\n",
    "\n",
    "# initializing\n",
    "data = [[1,2],[3,4]]\n",
    "\n",
    "x_data = torch.tensor(data,dtype=torch.float)\n",
    "\n",
    "rand_data = torch.rand((2,2))\n",
    "one_data = torch.ones((2,2))\n",
    "zero_data = torch.zeros((2,2))\n",
    "\n",
    "np_to_tensor = torch.from_numpy(np.ones((2,2)))\n",
    "print(np_to_tensor)\n"
   ]
  },
  {
   "cell_type": "code",
   "execution_count": 2,
   "id": "7e30e101-ac2f-49e2-ba42-71539b5f5897",
   "metadata": {},
   "outputs": [
    {
     "name": "stdout",
     "output_type": "stream",
     "text": [
      "the doevice of x_data is cpu\n",
      "the doevice of x_data is cuda:0\n"
     ]
    }
   ],
   "source": [
    "# move tensor from cpu to gpu\n",
    "print(\"the doevice of x_data is %s\"%x_data.device)\n",
    "if torch.cuda.is_available():\n",
    "  x_data = x_data.cuda()\n",
    "print(\"the doevice of x_data is %s\"%x_data.device)"
   ]
  },
  {
   "cell_type": "code",
   "execution_count": 3,
   "id": "5ff2449f-1ed4-4e1d-9575-4fc1defa1109",
   "metadata": {},
   "outputs": [
    {
     "name": "stdout",
     "output_type": "stream",
     "text": [
      "tensor([[1., 1., 0., 0.],\n",
      "        [1., 1., 0., 0.]])\n"
     ]
    }
   ],
   "source": [
    "# joining tensor\n",
    "print(torch.cat([one_data,zero_data],dim=1))"
   ]
  },
  {
   "cell_type": "code",
   "execution_count": 4,
   "id": "06b3d839-321a-4e64-841a-466719684924",
   "metadata": {},
   "outputs": [
    {
     "name": "stdout",
     "output_type": "stream",
     "text": [
      "tensor([[1., 2.],\n",
      "        [3., 4.]])\n",
      "tensor([[ 5., 11.],\n",
      "        [11., 25.]])\n",
      "tensor([[ 5., 11.],\n",
      "        [11., 25.]])\n",
      "\n",
      "tensor([[ 1.,  4.],\n",
      "        [ 9., 16.]])\n",
      "tensor([[ 1.,  4.],\n",
      "        [ 9., 16.]])\n",
      "tensor(10.)\n",
      "<class 'torch.Tensor'>\n",
      "10.0\n",
      "<class 'float'>\n",
      "[[1.0, 2.0], [3.0, 4.0]]\n"
     ]
    }
   ],
   "source": [
    "data = [[1,2],[3,4]]\n",
    "x_data = torch.tensor(data,dtype=torch.float)\n",
    "print(x_data)\n",
    "\n",
    "# Matrix Multiplication\n",
    "print(x_data @ x_data.T)\n",
    "print(x_data.matmul(x_data.T))\n",
    "print(\"\")\n",
    "\n",
    "# Element-wise product\n",
    "print(x_data*x_data)\n",
    "print(x_data.mul(x_data))\n",
    "\n",
    "# Single-elenebt tensors\n",
    "y = x_data.sum()\n",
    "print(y)\n",
    "print(type(y))\n",
    "print(y.item()) # item 함수는 tensor의 value가 하나일 때만 동작 \n",
    "print(type(y.item()))\n",
    "print(x_data.tolist()) # value가 여러개일 때는 tolist() 사용"
   ]
  },
  {
   "cell_type": "code",
   "execution_count": null,
   "id": "12cf5c7a-9898-4057-b8bf-1d15f845797f",
   "metadata": {},
   "outputs": [],
   "source": []
  }
 ],
 "metadata": {
  "kernelspec": {
   "display_name": "Python 3 (ipykernel)",
   "language": "python",
   "name": "python3"
  },
  "language_info": {
   "codemirror_mode": {
    "name": "ipython",
    "version": 3
   },
   "file_extension": ".py",
   "mimetype": "text/x-python",
   "name": "python",
   "nbconvert_exporter": "python",
   "pygments_lexer": "ipython3",
   "version": "3.7.10"
  }
 },
 "nbformat": 4,
 "nbformat_minor": 5
}
