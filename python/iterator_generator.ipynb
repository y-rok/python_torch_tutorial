{
 "cells": [
  {
   "cell_type": "code",
   "execution_count": 1,
   "id": "52afc36f-70a7-4487-8b53-3ad3198ae76d",
   "metadata": {},
   "outputs": [
    {
     "name": "stdout",
     "output_type": "stream",
     "text": [
      "['__iter__']\n",
      "<class 'list_iterator'>\n",
      "1\n",
      "2\n",
      "3\n",
      "1\n",
      "2\n",
      "3\n"
     ]
    }
   ],
   "source": [
    "a = [1,2,3] # iterable 객체 \n",
    "\n",
    "# iterable 객체는 __iter__ method를 가지고 있고 이를 통해 iterator 객체를 만들 수 있음\n",
    "print([fn_name for fn_name in dir(a) if \"iter\" in fn_name]) \n",
    "\n",
    "iterator = a.__iter__()\n",
    "print(type(iterator)) \n",
    "\n",
    "# iterator는 __next__() 함수로 값을 하나씩 생성\n",
    "print(iterator.__next__())\n",
    "print(iterator.__next__())\n",
    "print(iterator.__next__())\n",
    "\n",
    "\n",
    "# 위와 같은 것을 아래 처럼 작성할 수 도 있음\n",
    "iterator = iter(a)\n",
    "print(next(iterator))\n",
    "print(next(iterator))\n",
    "print(next(iterator))\n"
   ]
  },
  {
   "cell_type": "code",
   "execution_count": 36,
   "id": "711a5756-1fee-450f-bccb-ff19c9bbccc0",
   "metadata": {},
   "outputs": [
    {
     "name": "stdout",
     "output_type": "stream",
     "text": [
      "8552\n",
      "128\n",
      "dummy\n",
      "dummy\n",
      "\n",
      "9032\n",
      "128\n"
     ]
    }
   ],
   "source": [
    "import sys \n",
    "\n",
    "def csv_iter(f_name = \"./test.csv\"):\n",
    "    f = open(f_name,\"r\")\n",
    "    str_list = f.read().split(\"\\n\")\n",
    "    return str_list\n",
    "\n",
    "def csv_gen(f_name=\"./test.csv\"):\n",
    "    f = open(f_name,\"r\")\n",
    "    for row in f:\n",
    "        yield row\n",
    "\n",
    "print(sys.getsizeof(csv_iter())) # iteratable은 element들을 memory에 모두 올려놔 memory 공간을 많이 차지\n",
    "print(sys.getsizeof(csv_gen())) # 이에 비해 generator는 적은 공간 차지\n",
    "\n",
    "# 아래 처럼 iterator 가능\n",
    "print(next(csv_iter().__iter__())) \n",
    "print(next(csv_gen()))\n",
    "\n",
    "# 위의 함수를 아래 처럼도 간단히 생성 가능\n",
    "csv_iter = [row for row in open(\"./test.csv\")] # iterator\n",
    "csv_gen = (row for row in open(\"./test.csv\")) #generator\n",
    "\n",
    "print(sys.getsizeof(csv_iter))\n",
    "print(sys.getsizeof(csv_gen))"
   ]
  },
  {
   "cell_type": "code",
   "execution_count": null,
   "id": "e368a3ff-0de6-4962-9b66-48fc38f3fc1c",
   "metadata": {},
   "outputs": [],
   "source": []
  }
 ],
 "metadata": {
  "kernelspec": {
   "display_name": "Python 3 (ipykernel)",
   "language": "python",
   "name": "python3"
  },
  "language_info": {
   "codemirror_mode": {
    "name": "ipython",
    "version": 3
   },
   "file_extension": ".py",
   "mimetype": "text/x-python",
   "name": "python",
   "nbconvert_exporter": "python",
   "pygments_lexer": "ipython3",
   "version": "3.7.10"
  }
 },
 "nbformat": 4,
 "nbformat_minor": 5
}
